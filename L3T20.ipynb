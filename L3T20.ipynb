{
 "cells": [
  {
   "cell_type": "markdown",
   "metadata": {},
   "source": [
    "This capstone project focuses on a basic form of Natural Language Processing (NLP): Sentiment Analysis. We used two different neural networks in Keras to classify Amazon book reviews as either positive or negative, and to compare the performance of the two networks. We used two small samples of positive and negative book reviews from Amazon as our data."
   ]
  },
  {
   "cell_type": "markdown",
   "metadata": {
    "colab_type": "text",
    "id": "eHGm8RQlK46m"
   },
   "source": [
    "###  Get and explore dataset"
   ]
  },
  {
   "cell_type": "code",
   "execution_count": 1,
   "metadata": {
    "colab": {},
    "colab_type": "code",
    "id": "-erlYw1jXtgh"
   },
   "outputs": [],
   "source": [
    "import matplotlib.pyplot as plt\n",
    "from matplotlib import pyplot\n",
    "import numpy as np\n",
    "import re"
   ]
  },
  {
   "cell_type": "code",
   "execution_count": 2,
   "metadata": {
    "colab": {},
    "colab_type": "code",
    "id": "goZIhX8nII4T"
   },
   "outputs": [],
   "source": [
    "# Make results reproducible - set random seed\n",
    "from numpy.random import seed\n",
    "seed(42)"
   ]
  },
  {
   "cell_type": "code",
   "execution_count": 3,
   "metadata": {
    "colab": {},
    "colab_type": "code",
    "id": "v_fEysQHII4W",
    "tags": []
   },
   "outputs": [],
   "source": [
    "positive_file = \"positive.txt\"\n",
    "negative_file = \"negative.txt\""
   ]
  },
  {
   "cell_type": "code",
   "execution_count": 4,
   "metadata": {
    "colab": {},
    "colab_type": "code",
    "id": "0rWm4yycII4Y",
    "tags": []
   },
   "outputs": [],
   "source": [
    "# Do not modify - helper function to load and preprocess data\n",
    "def filter_words(line):    \n",
    "    line = re.sub(r'[^\\w\\s]','',line.rstrip())\n",
    "    words = line.split(\" \") \n",
    "    words = [i.lower() for i in words if i]      \n",
    "    return \" \".join(words)\n",
    "\n",
    "def load_data(filename):\n",
    "    thefile = open(filename, 'r') \n",
    "    lines = thefile.readlines() \n",
    "\n",
    "    data = []\n",
    "    for l in range(0,len(lines)): \n",
    "        if(lines[l-1].strip() == \"<title>\"): \n",
    "            theline = filter_words(lines[l])\n",
    "            if(len(theline) < 50):\n",
    "                data.append(theline)            \n",
    "            \n",
    "    return data\n",
    "\n",
    "# Helper function to convert categorical data to class label\n",
    "def to_word_label(y):\n",
    "    y = to_class(y)   \n",
    "    return [\"positive\" if i==0 else \"negative\" for i in y]\n",
    "\n",
    "# Helper function to convert class label to numeric label\n",
    "def to_numeric_label(y):\n",
    "  return [0 if i==\"positive\" else 1 for i in word_labels]\n",
    "\n",
    "# Helper function: this function needs to be called before sending arrays to sklearn metrics,\n",
    "# it converts back to class form from categorical form. ie: [1,0] --> 0, [0,1] --> 1\n",
    "def to_class(y):\n",
    "    return np.argmax(y,axis=1) "
   ]
  },
  {
   "cell_type": "code",
   "execution_count": 5,
   "metadata": {
    "colab": {
     "base_uri": "https://localhost:8080/",
     "height": 70
    },
    "colab_type": "code",
    "id": "jjGUiFm9II4b",
    "outputId": "aa5eb89b-85f2-4d61-f33a-b00361b19a41",
    "tags": []
   },
   "outputs": [
    {
     "name": "stdout",
     "output_type": "stream",
     "text": [
      "['one of the best crichton novels', 'the medicine of the future', 'beautiful', 'for lovers of robicheaux', 'a good book', 'to the point and beautifully illustrated', 'at least somebody has got it', 'beautifully written heartwarming story', 'an excellent cookbook full of delicious recipes', 'an outstanding resource']\n",
      "['horrible book horrible', 'shallow selfindulgence', 'horrible book horrible', 'disappointment', 'a disappointing mess', 'save your money there are better books out there', 'thank you but no thanks', 'unendurable', 'the hard way', 'some good info among the political commercial']\n"
     ]
    }
   ],
   "source": [
    "positive = load_data(positive_file)\n",
    "negative = load_data(negative_file)\n",
    "\n",
    "print(positive[0:10])\n",
    "print(negative[0:10])"
   ]
  },
  {
   "cell_type": "code",
   "execution_count": 6,
   "metadata": {
    "colab": {},
    "colab_type": "code",
    "id": "yrgEYOOCII4d",
    "tags": []
   },
   "outputs": [],
   "source": [
    "# Do not modify - Combines the positive and negative reviews into a single list and create labels\n",
    "data = positive + negative\n",
    "word_labels = [\"positive\"] * len(positive) + [\"negative\"] * len(negative) \n",
    "\n",
    "# Converts labels to numbers in one-hot encoding - [1, 0] (positive) or [0, 1] (negative)\n",
    "from keras.utils import to_categorical\n",
    "labels  = to_categorical(to_numeric_label(word_labels))"
   ]
  },
  {
   "cell_type": "code",
   "execution_count": 7,
   "metadata": {
    "scrolled": false
   },
   "outputs": [
    {
     "name": "stdout",
     "output_type": "stream",
     "text": [
      "Mean Review length: 4\n",
      "Standard Deviation: 2\n"
     ]
    },
    {
     "data": {
      "text/plain": [
       "{'whiskers': [<matplotlib.lines.Line2D at 0x24a134c2310>,\n",
       "  <matplotlib.lines.Line2D at 0x24a134c2670>],\n",
       " 'caps': [<matplotlib.lines.Line2D at 0x24a134c29d0>,\n",
       "  <matplotlib.lines.Line2D at 0x24a134c2d30>],\n",
       " 'boxes': [<matplotlib.lines.Line2D at 0x24a134a7f70>],\n",
       " 'medians': [<matplotlib.lines.Line2D at 0x24a13b630d0>],\n",
       " 'fliers': [<matplotlib.lines.Line2D at 0x24a13b63430>],\n",
       " 'means': []}"
      ]
     },
     "execution_count": 7,
     "metadata": {},
     "output_type": "execute_result"
    },
    {
     "data": {
      "image/png": "[encoded data removed]",
      "text/plain": [
       "<Figure size 432x288 with 1 Axes>"
      ]
     },
     "metadata": {
      "needs_background": "light"
     },
     "output_type": "display_data"
    }
   ],
   "source": [
    "# - Calculate and report the mean review size, its standard deviation and create a boxplot.\n",
    "\n",
    "# calculate mean review size\n",
    "lengths = [len(i.split()) for i in data]\n",
    "mean_review_size = round(np.mean(lengths))\n",
    "\n",
    "print(\"Mean Review length:\", mean_review_size)\n",
    "print(\"Standard Deviation:\", round(np.std(lengths))) \n",
    "\n",
    "plt.boxplot(lengths, vert=False)"
   ]
  },
  {
   "cell_type": "markdown",
   "metadata": {},
   "source": [
    "As we can observe from the plot above, the mean length of review sentiments is 4 and 75% of them are shorter than 6 words."
   ]
  },
  {
   "cell_type": "code",
   "execution_count": 8,
   "metadata": {},
   "outputs": [
    {
     "name": "stdout",
     "output_type": "stream",
     "text": [
      "The number of unique words in the dataset:  2559\n"
     ]
    }
   ],
   "source": [
    "# - Calculate the number of unique words in the dataset\n",
    "words = \" \".join(data).split()\n",
    "print(\"The number of unique words in the dataset: \", len(np.unique(words)))"
   ]
  },
  {
   "cell_type": "code",
   "execution_count": 9,
   "metadata": {
    "colab": {
     "base_uri": "https://localhost:8080/",
     "height": 50
    },
    "colab_type": "code",
    "id": "_XXnArgcII4i",
    "outputId": "020b2ee2-4c2a-4bc0-bb55-e2ae3841fe57",
    "tags": []
   },
   "outputs": [
    {
     "name": "stdout",
     "output_type": "stream",
     "text": [
      "['one of the best crichton novels', 'the medicine of the future', 'beautiful', 'for lovers of robicheaux', 'a good book']\n",
      "[[18, 4, 2, 19], [2, 4, 2], [], [6, 4], [1, 12, 3]]\n"
     ]
    }
   ],
   "source": [
    "# Do not modify - Tokenize the vocabulary \n",
    "from keras.preprocessing.text import Tokenizer\n",
    "\n",
    "tokenizer = Tokenizer(num_words=25)\n",
    "\n",
    "tokenizer.fit_on_texts(data) #create the vocabularry\n",
    "\n",
    "tokenized_data = tokenizer.texts_to_sequences(data) #tokenize the data using the vocabulary\n",
    "\n",
    "vocab_size = len(tokenizer.word_index) + 1 \n",
    "\n",
    "# Compare a sample of the data before and after tokenization\n",
    "print(data[0:5])\n",
    "print(tokenized_data[0:5])"
   ]
  },
  {
   "cell_type": "markdown",
   "metadata": {
    "colab_type": "text",
    "id": "_vsMmLjdK1Gf"
   },
   "source": [
    "## Pre-processing"
   ]
  },
  {
   "cell_type": "code",
   "execution_count": 10,
   "metadata": {
    "colab": {},
    "colab_type": "code",
    "id": "24DaXd1zII4q",
    "tags": []
   },
   "outputs": [],
   "source": [
    "# Pre-processing\n",
    "from keras.utils import pad_sequences\n",
    "\n",
    "X = pad_sequences(tokenized_data, padding='post', maxlen=mean_review_size)"
   ]
  },
  {
   "cell_type": "code",
   "execution_count": 11,
   "metadata": {},
   "outputs": [
    {
     "name": "stdout",
     "output_type": "stream",
     "text": [
      "(1434, 4) (1434, 2)\n",
      "(359, 4) (359, 2)\n"
     ]
    }
   ],
   "source": [
    "# Write some code to split the data into a training and test set. Make sure you shuffle the data. Use 20% for the test set.\n",
    "\n",
    "from sklearn.model_selection import train_test_split\n",
    "\n",
    "X_train, X_test, y_train, y_test = train_test_split(X, labels, test_size=0.2, shuffle=True, random_state=42)\n",
    "\n",
    "print(X_train.shape,y_train.shape)\n",
    "print(X_test.shape,y_test.shape)"
   ]
  },
  {
   "cell_type": "code",
   "execution_count": 12,
   "metadata": {
    "colab": {
     "base_uri": "https://localhost:8080/",
     "height": 128
    },
    "colab_type": "code",
    "id": "lDth1BSzII4u",
    "outputId": "4614049a-7151-4407-9bc8-54604bbe7fdd"
   },
   "outputs": [],
   "source": [
    "\n",
    "from sklearn.metrics import confusion_matrix, precision_score, recall_score, f1_score\n",
    "\n",
    "# The following function\n",
    "# - makes a prediction for the test set given the model\n",
    "# - reports the precision, recall and f1 score. Also prints the confusion matrix. \n",
    "# - uses the helper to_class function to convert y_pred and y_test before supplying them to the sklearn functions.\n",
    "\n",
    "def assess_model(model, X_test, y_test):      \n",
    "    y_pred = model.predict(X_test, verbose=0)\n",
    "    precision = precision_score(to_class(y_test), to_class(y_pred))\n",
    "    recall = recall_score(to_class(y_test), to_class(y_pred))\n",
    "    f1 = f1_score(to_class(y_test), to_class(y_pred))\n",
    "    \n",
    "    print(\"precision score: \" , round(precision,4))\n",
    "    print(\"recall score: \", round(recall,4))   \n",
    "    print(\"F1 score: \", round(f1,4))\n",
    "    print(\"confusion matrix: \\n\", confusion_matrix(to_class(y_test), to_class(y_pred)))"
   ]
  },
  {
   "cell_type": "code",
   "execution_count": 13,
   "metadata": {},
   "outputs": [],
   "source": [
    "def report_score(model, X_test, y_test):\n",
    "    score = model.evaluate(X_test, y_test, verbose=0)\n",
    "    print(\"Test loss: \", round(score[0],4))\n",
    "    print(\"Test accuracy : \", round(score[1],4))"
   ]
  },
  {
   "cell_type": "markdown",
   "metadata": {
    "colab_type": "text",
    "id": "nTqLbbE6MpGt"
   },
   "source": [
    "## Build and tune model"
   ]
  },
  {
   "cell_type": "markdown",
   "metadata": {
    "colab_type": "text",
    "id": "3X70rA4uMXNv"
   },
   "source": [
    "Define network architecture"
   ]
  },
  {
   "cell_type": "code",
   "execution_count": 14,
   "metadata": {
    "colab": {},
    "colab_type": "code",
    "id": "wKoXWKG4II5F"
   },
   "outputs": [],
   "source": [
    "from keras import models\n",
    "from keras import layers\n",
    "\n",
    "def build_model(output_dim):\n",
    "    \"\"\"\n",
    "    function  builds and compiles a model;\n",
    "    parameters: \n",
    "            output_dim - dimension of a vector space in Embedding layer \"\"\"\n",
    "    \n",
    "    model = models.Sequential()\n",
    "    model.add(layers.Embedding(vocab_size, output_dim))\n",
    "    model.add(layers.SpatialDropout1D(0.2))\n",
    "    model.add(layers.BatchNormalization())\n",
    "    model.add(layers.LSTM(32))\n",
    "    model.add(layers.Dense(2, activation='softmax'))\n",
    "    \n",
    "    model.summary()\n",
    "    # compiling the model\n",
    "    model.compile(optimizer = \"adam\",loss = \"binary_crossentropy\", metrics = [\"accuracy\"])\n",
    "    return model\n",
    "    "
   ]
  },
  {
   "cell_type": "code",
   "execution_count": 15,
   "metadata": {},
   "outputs": [],
   "source": [
    "batch_size = 10\n",
    "epoch_num = 5"
   ]
  },
  {
   "cell_type": "code",
   "execution_count": 16,
   "metadata": {},
   "outputs": [
    {
     "name": "stdout",
     "output_type": "stream",
     "text": [
      "Model: \"sequential\"\n",
      "_________________________________________________________________\n",
      " Layer (type)                Output Shape              Param #   \n",
      "=================================================================\n",
      " embedding (Embedding)       (None, None, 10)          25600     \n",
      "                                                                 \n",
      " spatial_dropout1d (SpatialD  (None, None, 10)         0         \n",
      " ropout1D)                                                       \n",
      "                                                                 \n",
      " batch_normalization (BatchN  (None, None, 10)         40        \n",
      " ormalization)                                                   \n",
      "                                                                 \n",
      " lstm (LSTM)                 (None, 32)                5504      \n",
      "                                                                 \n",
      " dense (Dense)               (None, 2)                 66        \n",
      "                                                                 \n",
      "=================================================================\n",
      "Total params: 31,210\n",
      "Trainable params: 31,190\n",
      "Non-trainable params: 20\n",
      "_________________________________________________________________\n"
     ]
    }
   ],
   "source": [
    "# model with output dim equals 10\n",
    "model_10 = build_model(10)"
   ]
  },
  {
   "cell_type": "markdown",
   "metadata": {
    "colab_type": "text",
    "id": "llS0-VKBMbz-"
   },
   "source": [
    "Train model"
   ]
  },
  {
   "cell_type": "code",
   "execution_count": 17,
   "metadata": {
    "scrolled": true
   },
   "outputs": [
    {
     "name": "stdout",
     "output_type": "stream",
     "text": [
      "Epoch 1/5\n",
      "115/115 [==============================] - 5s 11ms/step - loss: 0.6907 - accuracy: 0.5310 - val_loss: 0.6910 - val_accuracy: 0.5923\n",
      "Epoch 2/5\n",
      "115/115 [==============================] - 1s 5ms/step - loss: 0.6720 - accuracy: 0.5902 - val_loss: 0.6779 - val_accuracy: 0.6272\n",
      "Epoch 3/5\n",
      "115/115 [==============================] - 1s 5ms/step - loss: 0.6612 - accuracy: 0.5920 - val_loss: 0.6590 - val_accuracy: 0.6307\n",
      "Epoch 4/5\n",
      "115/115 [==============================] - 1s 6ms/step - loss: 0.6462 - accuracy: 0.5990 - val_loss: 0.6394 - val_accuracy: 0.6481\n",
      "Epoch 5/5\n",
      "115/115 [==============================] - 1s 5ms/step - loss: 0.6429 - accuracy: 0.6051 - val_loss: 0.6248 - val_accuracy: 0.6376\n"
     ]
    }
   ],
   "source": [
    "history_10 = model_10.fit(X_train, y_train,\n",
    "                    epochs= epoch_num,\n",
    "                    batch_size = batch_size,\n",
    "                    validation_split=0.2)"
   ]
  },
  {
   "cell_type": "code",
   "execution_count": 18,
   "metadata": {},
   "outputs": [
    {
     "name": "stdout",
     "output_type": "stream",
     "text": [
      "Model: \"sequential_1\"\n",
      "_________________________________________________________________\n",
      " Layer (type)                Output Shape              Param #   \n",
      "=================================================================\n",
      " embedding_1 (Embedding)     (None, None, 25)          64000     \n",
      "                                                                 \n",
      " spatial_dropout1d_1 (Spatia  (None, None, 25)         0         \n",
      " lDropout1D)                                                     \n",
      "                                                                 \n",
      " batch_normalization_1 (Batc  (None, None, 25)         100       \n",
      " hNormalization)                                                 \n",
      "                                                                 \n",
      " lstm_1 (LSTM)               (None, 32)                7424      \n",
      "                                                                 \n",
      " dense_1 (Dense)             (None, 2)                 66        \n",
      "                                                                 \n",
      "=================================================================\n",
      "Total params: 71,590\n",
      "Trainable params: 71,540\n",
      "Non-trainable params: 50\n",
      "_________________________________________________________________\n"
     ]
    }
   ],
   "source": [
    "# model with output dim in Embedding layer equals 25\n",
    "model_25 = build_model(25)"
   ]
  },
  {
   "cell_type": "code",
   "execution_count": 20,
   "metadata": {},
   "outputs": [
    {
     "name": "stdout",
     "output_type": "stream",
     "text": [
      "Epoch 1/5\n",
      "115/115 [==============================] - 4s 10ms/step - loss: 0.6877 - accuracy: 0.5301 - val_loss: 0.6900 - val_accuracy: 0.5923\n",
      "Epoch 2/5\n",
      "115/115 [==============================] - 1s 6ms/step - loss: 0.6723 - accuracy: 0.5728 - val_loss: 0.6741 - val_accuracy: 0.6098\n",
      "Epoch 3/5\n",
      "115/115 [==============================] - 1s 5ms/step - loss: 0.6577 - accuracy: 0.5963 - val_loss: 0.6548 - val_accuracy: 0.6132\n",
      "Epoch 4/5\n",
      "115/115 [==============================] - 1s 6ms/step - loss: 0.6477 - accuracy: 0.5990 - val_loss: 0.6328 - val_accuracy: 0.6376\n",
      "Epoch 5/5\n",
      "115/115 [==============================] - 1s 6ms/step - loss: 0.6419 - accuracy: 0.6094 - val_loss: 0.6246 - val_accuracy: 0.6481\n"
     ]
    }
   ],
   "source": [
    "history_25 = model_25.fit(X_train, y_train,\n",
    "                    epochs= epoch_num,\n",
    "                    batch_size = batch_size,\n",
    "                    validation_split=0.2)"
   ]
  },
  {
   "cell_type": "code",
   "execution_count": 21,
   "metadata": {},
   "outputs": [
    {
     "name": "stdout",
     "output_type": "stream",
     "text": [
      "Model: \"sequential_3\"\n",
      "_________________________________________________________________\n",
      " Layer (type)                Output Shape              Param #   \n",
      "=================================================================\n",
      " embedding_3 (Embedding)     (None, None, 50)          128000    \n",
      "                                                                 \n",
      " spatial_dropout1d_3 (Spatia  (None, None, 50)         0         \n",
      " lDropout1D)                                                     \n",
      "                                                                 \n",
      " batch_normalization_3 (Batc  (None, None, 50)         200       \n",
      " hNormalization)                                                 \n",
      "                                                                 \n",
      " lstm_3 (LSTM)               (None, 32)                10624     \n",
      "                                                                 \n",
      " dense_3 (Dense)             (None, 2)                 66        \n",
      "                                                                 \n",
      "=================================================================\n",
      "Total params: 138,890\n",
      "Trainable params: 138,790\n",
      "Non-trainable params: 100\n",
      "_________________________________________________________________\n"
     ]
    }
   ],
   "source": [
    "# model with output dim in Embedding layer equals 50\n",
    "model_50 = build_model(50)"
   ]
  },
  {
   "cell_type": "code",
   "execution_count": 22,
   "metadata": {},
   "outputs": [
    {
     "name": "stdout",
     "output_type": "stream",
     "text": [
      "Epoch 1/5\n",
      "115/115 [==============================] - 4s 11ms/step - loss: 0.6888 - accuracy: 0.5440 - val_loss: 0.6899 - val_accuracy: 0.6028\n",
      "Epoch 2/5\n",
      "115/115 [==============================] - 1s 6ms/step - loss: 0.6712 - accuracy: 0.6016 - val_loss: 0.6802 - val_accuracy: 0.6516\n",
      "Epoch 3/5\n",
      "115/115 [==============================] - 1s 6ms/step - loss: 0.6595 - accuracy: 0.5937 - val_loss: 0.6593 - val_accuracy: 0.6341\n",
      "Epoch 4/5\n",
      "115/115 [==============================] - 1s 6ms/step - loss: 0.6501 - accuracy: 0.5876 - val_loss: 0.6403 - val_accuracy: 0.6446\n",
      "Epoch 5/5\n",
      "115/115 [==============================] - 1s 7ms/step - loss: 0.6414 - accuracy: 0.6207 - val_loss: 0.6268 - val_accuracy: 0.6411\n"
     ]
    }
   ],
   "source": [
    "history_50 = model_50.fit(X_train, y_train,\n",
    "                    epochs= epoch_num,\n",
    "                    batch_size = batch_size,\n",
    "                    validation_split=0.2)"
   ]
  },
  {
   "cell_type": "code",
   "execution_count": 23,
   "metadata": {},
   "outputs": [
    {
     "name": "stdout",
     "output_type": "stream",
     "text": [
      "Model: \"sequential_4\"\n",
      "_________________________________________________________________\n",
      " Layer (type)                Output Shape              Param #   \n",
      "=================================================================\n",
      " embedding_4 (Embedding)     (None, None, 100)         256000    \n",
      "                                                                 \n",
      " spatial_dropout1d_4 (Spatia  (None, None, 100)        0         \n",
      " lDropout1D)                                                     \n",
      "                                                                 \n",
      " batch_normalization_4 (Batc  (None, None, 100)        400       \n",
      " hNormalization)                                                 \n",
      "                                                                 \n",
      " lstm_4 (LSTM)               (None, 32)                17024     \n",
      "                                                                 \n",
      " dense_4 (Dense)             (None, 2)                 66        \n",
      "                                                                 \n",
      "=================================================================\n",
      "Total params: 273,490\n",
      "Trainable params: 273,290\n",
      "Non-trainable params: 200\n",
      "_________________________________________________________________\n"
     ]
    }
   ],
   "source": [
    "# model with output dim in Embedding layer equals 100\n",
    "model_100 = build_model(100)"
   ]
  },
  {
   "cell_type": "code",
   "execution_count": 24,
   "metadata": {},
   "outputs": [
    {
     "name": "stdout",
     "output_type": "stream",
     "text": [
      "Epoch 1/5\n",
      "115/115 [==============================] - 4s 13ms/step - loss: 0.6901 - accuracy: 0.5458 - val_loss: 0.6872 - val_accuracy: 0.5679\n",
      "Epoch 2/5\n",
      "115/115 [==============================] - 1s 7ms/step - loss: 0.6678 - accuracy: 0.5763 - val_loss: 0.6760 - val_accuracy: 0.6028\n",
      "Epoch 3/5\n",
      "115/115 [==============================] - 1s 7ms/step - loss: 0.6638 - accuracy: 0.5929 - val_loss: 0.6544 - val_accuracy: 0.6376\n",
      "Epoch 4/5\n",
      "115/115 [==============================] - 1s 7ms/step - loss: 0.6504 - accuracy: 0.5894 - val_loss: 0.6340 - val_accuracy: 0.6272\n",
      "Epoch 5/5\n",
      "115/115 [==============================] - 1s 7ms/step - loss: 0.6424 - accuracy: 0.6181 - val_loss: 0.6166 - val_accuracy: 0.6516\n"
     ]
    }
   ],
   "source": [
    "history_100 = model_100.fit(X_train, y_train,\n",
    "                    epochs= epoch_num,\n",
    "                    batch_size = batch_size,\n",
    "                    validation_split=0.2)"
   ]
  },
  {
   "cell_type": "markdown",
   "metadata": {},
   "source": [
    "Examine performance of model to find best value for embedding layer output dimension paramener."
   ]
  },
  {
   "cell_type": "code",
   "execution_count": 27,
   "metadata": {},
   "outputs": [
    {
     "name": "stdout",
     "output_type": "stream",
     "text": [
      "Model with output_num=10:\n",
      "\n",
      "precision score:  0.5667\n",
      "recall score:  0.7432\n",
      "F1 score:  0.643\n",
      "confusion matrix: \n",
      " [[ 72 104]\n",
      " [ 47 136]]\n",
      "Test loss:  0.6625\n",
      "Test accuracy :  0.5794\n"
     ]
    }
   ],
   "source": [
    "print(\"Model with output_num=10:\\n\")\n",
    "assess_model(model_10, X_test, y_test)  \n",
    "report_score(model_10, X_test, y_test)"
   ]
  },
  {
   "cell_type": "code",
   "execution_count": 28,
   "metadata": {},
   "outputs": [
    {
     "name": "stdout",
     "output_type": "stream",
     "text": [
      "Model with output_num=25:\n",
      "\n",
      "precision score:  0.5587\n",
      "recall score:  0.7541\n",
      "F1 score:  0.6419\n",
      "confusion matrix: \n",
      " [[ 67 109]\n",
      " [ 45 138]]\n",
      "Test loss:  0.6641\n",
      "Test accuracy :  0.571\n"
     ]
    }
   ],
   "source": [
    "print(\"Model with output_num=25:\\n\")\n",
    "assess_model(model_25, X_test, y_test)  \n",
    "report_score(model_25, X_test, y_test)"
   ]
  },
  {
   "cell_type": "code",
   "execution_count": 29,
   "metadata": {},
   "outputs": [
    {
     "name": "stdout",
     "output_type": "stream",
     "text": [
      "Model with output_num=50:\n",
      "\n",
      "precision score:  0.5783\n",
      "recall score:  0.7268\n",
      "F1 score:  0.6441\n",
      "confusion matrix: \n",
      " [[ 79  97]\n",
      " [ 50 133]]\n",
      "Test loss:  0.6615\n",
      "Test accuracy :  0.5905\n"
     ]
    }
   ],
   "source": [
    "print(\"Model with output_num=50:\\n\")\n",
    "assess_model(model_50, X_test, y_test)  \n",
    "report_score(model_50, X_test, y_test)"
   ]
  },
  {
   "cell_type": "code",
   "execution_count": 30,
   "metadata": {},
   "outputs": [
    {
     "name": "stdout",
     "output_type": "stream",
     "text": [
      "Model with output_num=100:\n",
      "\n",
      "precision score:  0.5833\n",
      "recall score:  0.765\n",
      "F1 score:  0.6619\n",
      "confusion matrix: \n",
      " [[ 76 100]\n",
      " [ 43 140]]\n",
      "Test loss:  0.6614\n",
      "Test accuracy :  0.6017\n"
     ]
    }
   ],
   "source": [
    "print(\"Model with output_num=100:\\n\")\n",
    "assess_model(model_100, X_test, y_test)  \n",
    "report_score(model_100, X_test, y_test)"
   ]
  },
  {
   "cell_type": "markdown",
   "metadata": {},
   "source": [
    "Compare model perfomance for different values of output_dim paremeter in the embedding layer."
   ]
  },
  {
   "cell_type": "code",
   "execution_count": 31,
   "metadata": {},
   "outputs": [
    {
     "name": "stdout",
     "output_type": "stream",
     "text": [
      "+--------------+-------------------+----------------+------------+------------+\n",
      "|   output_dim |   precision score |   recall score |   F1 score |   accuracy |\n",
      "+==============+===================+================+============+============+\n",
      "|           10 |            0.5615 |         0.7978 |     0.6591 |     0.5794 |\n",
      "+--------------+-------------------+----------------+------------+------------+\n",
      "|           25 |            0.6073 |         0.7268 |     0.6617 |     0.6212 |\n",
      "+--------------+-------------------+----------------+------------+------------+\n",
      "|           50 |            0.5971 |         0.6721 |     0.6324 |     0.6017 |\n",
      "+--------------+-------------------+----------------+------------+------------+\n",
      "|          100 |            0.583  |         0.7486 |     0.6555 |     0.5989 |\n",
      "+--------------+-------------------+----------------+------------+------------+\n"
     ]
    }
   ],
   "source": [
    "from tabulate import tabulate\n",
    "\n",
    "# assign data\n",
    "data = [ [\"10\", \"0.5615\", \"0.7978\", \"0.6591\", \"0.5794\"],\n",
    "         [\"25\", \"0.6073\", \"0.7268\", \"0.6617\", \"0.6212\"],\n",
    "         [\"50\", \"0.5971\", \"0.6721\", \"0.6324\", \"0.6017\"],\n",
    "         [\"100\", \"0.583\", \"0.7486\", \"0.6555\", \"0.5989\"]\n",
    "]\n",
    "\n",
    "# create header\n",
    "col_names = [\"output_dim\", \"precision score\", \"recall score\", \"F1 score\", \"accuracy\"] \n",
    "\n",
    "# display table\n",
    "print(tabulate(data, headers=col_names, tablefmt=\"grid\"))"
   ]
  },
  {
   "cell_type": "markdown",
   "metadata": {},
   "source": [
    "The best perfomance (highest accuracy and highest F1 score) model has for output_dim equals 25. Below is a plot of accuracy and loss values of the model while training."
   ]
  },
  {
   "cell_type": "markdown",
   "metadata": {},
   "source": [
    " We choose final model with output_dim=25: model_25. Run this model with epoch = 40 to examine model loss and accuracy.\n",
    " "
   ]
  },
  {
   "cell_type": "code",
   "execution_count": 32,
   "metadata": {},
   "outputs": [
    {
     "name": "stdout",
     "output_type": "stream",
     "text": [
      "Epoch 1/40\n",
      "115/115 [==============================] - 1s 6ms/step - loss: 0.6427 - accuracy: 0.5955 - val_loss: 0.6201 - val_accuracy: 0.6341\n",
      "Epoch 2/40\n",
      "115/115 [==============================] - 1s 6ms/step - loss: 0.6343 - accuracy: 0.6138 - val_loss: 0.6260 - val_accuracy: 0.6516\n",
      "Epoch 3/40\n",
      "115/115 [==============================] - 1s 6ms/step - loss: 0.6316 - accuracy: 0.6094 - val_loss: 0.6219 - val_accuracy: 0.6481\n",
      "Epoch 4/40\n",
      "115/115 [==============================] - 1s 5ms/step - loss: 0.6330 - accuracy: 0.6173 - val_loss: 0.6228 - val_accuracy: 0.6516\n",
      "Epoch 5/40\n",
      "115/115 [==============================] - 1s 6ms/step - loss: 0.6274 - accuracy: 0.6129 - val_loss: 0.6208 - val_accuracy: 0.6551\n",
      "Epoch 6/40\n",
      "115/115 [==============================] - 1s 7ms/step - loss: 0.6216 - accuracy: 0.6216 - val_loss: 0.6269 - val_accuracy: 0.6516\n",
      "Epoch 7/40\n",
      "115/115 [==============================] - 1s 6ms/step - loss: 0.6210 - accuracy: 0.6373 - val_loss: 0.6361 - val_accuracy: 0.6551\n",
      "Epoch 8/40\n",
      "115/115 [==============================] - 1s 6ms/step - loss: 0.6176 - accuracy: 0.6303 - val_loss: 0.6363 - val_accuracy: 0.6481\n",
      "Epoch 9/40\n",
      "115/115 [==============================] - 1s 7ms/step - loss: 0.6136 - accuracy: 0.6373 - val_loss: 0.6389 - val_accuracy: 0.6585\n",
      "Epoch 10/40\n",
      "115/115 [==============================] - 1s 7ms/step - loss: 0.6052 - accuracy: 0.6356 - val_loss: 0.6441 - val_accuracy: 0.6551\n",
      "Epoch 11/40\n",
      "115/115 [==============================] - 1s 6ms/step - loss: 0.6086 - accuracy: 0.6356 - val_loss: 0.6443 - val_accuracy: 0.6620\n",
      "Epoch 12/40\n",
      "115/115 [==============================] - 1s 6ms/step - loss: 0.6092 - accuracy: 0.6382 - val_loss: 0.6457 - val_accuracy: 0.6411\n",
      "Epoch 13/40\n",
      "115/115 [==============================] - 1s 6ms/step - loss: 0.6103 - accuracy: 0.6373 - val_loss: 0.6440 - val_accuracy: 0.6725\n",
      "Epoch 14/40\n",
      "115/115 [==============================] - 1s 6ms/step - loss: 0.6014 - accuracy: 0.6408 - val_loss: 0.6476 - val_accuracy: 0.6585\n",
      "Epoch 15/40\n",
      "115/115 [==============================] - 1s 6ms/step - loss: 0.5994 - accuracy: 0.6452 - val_loss: 0.6625 - val_accuracy: 0.6585\n",
      "Epoch 16/40\n",
      "115/115 [==============================] - 1s 6ms/step - loss: 0.5996 - accuracy: 0.6504 - val_loss: 0.6561 - val_accuracy: 0.6551\n",
      "Epoch 17/40\n",
      "115/115 [==============================] - 1s 6ms/step - loss: 0.5970 - accuracy: 0.6539 - val_loss: 0.6580 - val_accuracy: 0.6551\n",
      "Epoch 18/40\n",
      "115/115 [==============================] - 1s 6ms/step - loss: 0.5924 - accuracy: 0.6548 - val_loss: 0.6569 - val_accuracy: 0.6481\n",
      "Epoch 19/40\n",
      "115/115 [==============================] - 1s 6ms/step - loss: 0.5941 - accuracy: 0.6399 - val_loss: 0.6650 - val_accuracy: 0.6516\n",
      "Epoch 20/40\n",
      "115/115 [==============================] - 1s 6ms/step - loss: 0.5909 - accuracy: 0.6452 - val_loss: 0.6686 - val_accuracy: 0.6516\n",
      "Epoch 21/40\n",
      "115/115 [==============================] - 1s 6ms/step - loss: 0.5866 - accuracy: 0.6565 - val_loss: 0.6731 - val_accuracy: 0.6341\n",
      "Epoch 22/40\n",
      "115/115 [==============================] - 1s 6ms/step - loss: 0.5898 - accuracy: 0.6530 - val_loss: 0.6771 - val_accuracy: 0.6481\n",
      "Epoch 23/40\n",
      "115/115 [==============================] - 1s 6ms/step - loss: 0.5844 - accuracy: 0.6626 - val_loss: 0.6864 - val_accuracy: 0.6481\n",
      "Epoch 24/40\n",
      "115/115 [==============================] - 1s 5ms/step - loss: 0.5892 - accuracy: 0.6469 - val_loss: 0.6810 - val_accuracy: 0.6446\n",
      "Epoch 25/40\n",
      "115/115 [==============================] - 1s 6ms/step - loss: 0.5757 - accuracy: 0.6469 - val_loss: 0.6808 - val_accuracy: 0.6585\n",
      "Epoch 26/40\n",
      "115/115 [==============================] - 1s 5ms/step - loss: 0.5835 - accuracy: 0.6495 - val_loss: 0.6722 - val_accuracy: 0.6446\n",
      "Epoch 27/40\n",
      "115/115 [==============================] - 1s 6ms/step - loss: 0.5715 - accuracy: 0.6635 - val_loss: 0.6932 - val_accuracy: 0.6446\n",
      "Epoch 28/40\n",
      "115/115 [==============================] - 1s 6ms/step - loss: 0.5760 - accuracy: 0.6626 - val_loss: 0.6929 - val_accuracy: 0.6551\n",
      "Epoch 29/40\n",
      "115/115 [==============================] - 1s 5ms/step - loss: 0.5830 - accuracy: 0.6661 - val_loss: 0.6756 - val_accuracy: 0.6446\n",
      "Epoch 30/40\n",
      "115/115 [==============================] - 1s 6ms/step - loss: 0.5680 - accuracy: 0.6591 - val_loss: 0.6833 - val_accuracy: 0.6341\n",
      "Epoch 31/40\n",
      "115/115 [==============================] - 1s 6ms/step - loss: 0.5648 - accuracy: 0.6687 - val_loss: 0.6895 - val_accuracy: 0.6551\n",
      "Epoch 32/40\n",
      "115/115 [==============================] - 1s 6ms/step - loss: 0.5647 - accuracy: 0.6661 - val_loss: 0.6963 - val_accuracy: 0.6551\n",
      "Epoch 33/40\n",
      "115/115 [==============================] - 1s 5ms/step - loss: 0.5693 - accuracy: 0.6670 - val_loss: 0.6858 - val_accuracy: 0.6516\n",
      "Epoch 34/40\n",
      "115/115 [==============================] - 1s 6ms/step - loss: 0.5673 - accuracy: 0.6626 - val_loss: 0.6834 - val_accuracy: 0.6585\n",
      "Epoch 35/40\n",
      "115/115 [==============================] - 1s 6ms/step - loss: 0.5686 - accuracy: 0.6678 - val_loss: 0.6982 - val_accuracy: 0.6620\n",
      "Epoch 36/40\n",
      "115/115 [==============================] - 1s 6ms/step - loss: 0.5727 - accuracy: 0.6548 - val_loss: 0.6925 - val_accuracy: 0.6620\n",
      "Epoch 37/40\n",
      "115/115 [==============================] - 1s 6ms/step - loss: 0.5609 - accuracy: 0.6713 - val_loss: 0.7014 - val_accuracy: 0.6690\n",
      "Epoch 38/40\n",
      "115/115 [==============================] - 1s 6ms/step - loss: 0.5612 - accuracy: 0.6704 - val_loss: 0.7024 - val_accuracy: 0.6481\n",
      "Epoch 39/40\n",
      "115/115 [==============================] - 1s 6ms/step - loss: 0.5587 - accuracy: 0.6765 - val_loss: 0.7083 - val_accuracy: 0.6341\n",
      "Epoch 40/40\n",
      "115/115 [==============================] - 1s 7ms/step - loss: 0.5578 - accuracy: 0.6609 - val_loss: 0.7034 - val_accuracy: 0.6585\n"
     ]
    }
   ],
   "source": [
    "batch_size = 10\n",
    "epoch_num = 40\n",
    "history = model_25.fit(X_train, y_train,\n",
    "                    epochs= epoch_num,\n",
    "                    batch_size = batch_size,\n",
    "                    validation_split=0.2)"
   ]
  },
  {
   "cell_type": "markdown",
   "metadata": {
    "colab_type": "text",
    "id": "HB8kzt-IME4U"
   },
   "source": [
    "Plot graphs for accuracy and loss"
   ]
  },
  {
   "cell_type": "code",
   "execution_count": 50,
   "metadata": {
    "colab": {},
    "colab_type": "code",
    "id": "hPyJ78unMJUI"
   },
   "outputs": [
    {
     "data": {
      "image/png": "[encoded data removed]",
      "text/plain": [
       "<Figure size 432x288 with 1 Axes>"
      ]
     },
     "metadata": {
      "needs_background": "light"
     },
     "output_type": "display_data"
    }
   ],
   "source": [
    "plt.plot(history.history['loss'])\n",
    "plt.plot(history.history['accuracy'])\n",
    "plt.title('Model loss and accuracy')\n",
    "plt.xlabel('epoch')\n",
    "plt.legend(['loss', 'accuracy'])\n",
    "plt.show()"
   ]
  },
  {
   "cell_type": "markdown",
   "metadata": {},
   "source": [
    " After around 30 epochs the loss and accuracy values stop improving much. We wil train model for 30 epochs.  "
   ]
  },
  {
   "cell_type": "code",
   "execution_count": 44,
   "metadata": {},
   "outputs": [
    {
     "name": "stdout",
     "output_type": "stream",
     "text": [
      "Epoch 1/30\n",
      "115/115 [==============================] - 1s 6ms/step - loss: 0.5221 - accuracy: 0.7044 - val_loss: 0.7745 - val_accuracy: 0.6237\n",
      "Epoch 2/30\n",
      "115/115 [==============================] - 1s 6ms/step - loss: 0.5189 - accuracy: 0.6940 - val_loss: 0.7712 - val_accuracy: 0.6341\n",
      "Epoch 3/30\n",
      "115/115 [==============================] - 1s 6ms/step - loss: 0.5218 - accuracy: 0.6905 - val_loss: 0.7697 - val_accuracy: 0.6167\n",
      "Epoch 4/30\n",
      "115/115 [==============================] - 1s 6ms/step - loss: 0.5171 - accuracy: 0.6983 - val_loss: 0.7867 - val_accuracy: 0.6132\n",
      "Epoch 5/30\n",
      "115/115 [==============================] - 1s 6ms/step - loss: 0.5217 - accuracy: 0.6888 - val_loss: 0.7859 - val_accuracy: 0.6167\n",
      "Epoch 6/30\n",
      "115/115 [==============================] - 1s 6ms/step - loss: 0.5171 - accuracy: 0.6914 - val_loss: 0.7834 - val_accuracy: 0.6063\n",
      "Epoch 7/30\n",
      "115/115 [==============================] - 1s 6ms/step - loss: 0.5187 - accuracy: 0.6966 - val_loss: 0.8000 - val_accuracy: 0.6202\n",
      "Epoch 8/30\n",
      "115/115 [==============================] - 1s 6ms/step - loss: 0.5200 - accuracy: 0.7036 - val_loss: 0.7929 - val_accuracy: 0.6341\n",
      "Epoch 9/30\n",
      "115/115 [==============================] - 1s 6ms/step - loss: 0.5258 - accuracy: 0.6922 - val_loss: 0.7916 - val_accuracy: 0.6307\n",
      "Epoch 10/30\n",
      "115/115 [==============================] - 1s 6ms/step - loss: 0.5151 - accuracy: 0.6922 - val_loss: 0.7961 - val_accuracy: 0.6272\n",
      "Epoch 11/30\n",
      "115/115 [==============================] - 1s 6ms/step - loss: 0.5222 - accuracy: 0.7001 - val_loss: 0.8021 - val_accuracy: 0.6272\n",
      "Epoch 12/30\n",
      "115/115 [==============================] - 1s 6ms/step - loss: 0.5196 - accuracy: 0.6861 - val_loss: 0.7915 - val_accuracy: 0.6272\n",
      "Epoch 13/30\n",
      "115/115 [==============================] - 1s 6ms/step - loss: 0.5112 - accuracy: 0.6992 - val_loss: 0.8010 - val_accuracy: 0.6411\n",
      "Epoch 14/30\n",
      "115/115 [==============================] - 1s 7ms/step - loss: 0.5124 - accuracy: 0.6914 - val_loss: 0.7922 - val_accuracy: 0.6376\n",
      "Epoch 15/30\n",
      "115/115 [==============================] - 1s 6ms/step - loss: 0.5160 - accuracy: 0.6870 - val_loss: 0.7836 - val_accuracy: 0.6132\n",
      "Epoch 16/30\n",
      "115/115 [==============================] - 1s 6ms/step - loss: 0.5195 - accuracy: 0.6957 - val_loss: 0.7841 - val_accuracy: 0.6307\n",
      "Epoch 17/30\n",
      "115/115 [==============================] - 1s 6ms/step - loss: 0.5104 - accuracy: 0.7036 - val_loss: 0.7952 - val_accuracy: 0.6307\n",
      "Epoch 18/30\n",
      "115/115 [==============================] - 1s 6ms/step - loss: 0.5151 - accuracy: 0.6949 - val_loss: 0.7967 - val_accuracy: 0.6132\n",
      "Epoch 19/30\n",
      "115/115 [==============================] - 1s 6ms/step - loss: 0.5156 - accuracy: 0.6957 - val_loss: 0.7933 - val_accuracy: 0.6167\n",
      "Epoch 20/30\n",
      "115/115 [==============================] - 1s 6ms/step - loss: 0.5145 - accuracy: 0.6983 - val_loss: 0.8015 - val_accuracy: 0.6516\n",
      "Epoch 21/30\n",
      "115/115 [==============================] - 1s 6ms/step - loss: 0.5068 - accuracy: 0.6975 - val_loss: 0.7966 - val_accuracy: 0.6481\n",
      "Epoch 22/30\n",
      "115/115 [==============================] - 1s 6ms/step - loss: 0.5024 - accuracy: 0.7097 - val_loss: 0.8094 - val_accuracy: 0.6272\n",
      "Epoch 23/30\n",
      "115/115 [==============================] - 1s 6ms/step - loss: 0.5150 - accuracy: 0.6975 - val_loss: 0.8061 - val_accuracy: 0.6341\n",
      "Epoch 24/30\n",
      "115/115 [==============================] - 1s 6ms/step - loss: 0.5071 - accuracy: 0.6983 - val_loss: 0.8166 - val_accuracy: 0.6307\n",
      "Epoch 25/30\n",
      "115/115 [==============================] - 1s 6ms/step - loss: 0.5061 - accuracy: 0.6940 - val_loss: 0.8247 - val_accuracy: 0.6098\n",
      "Epoch 26/30\n",
      "115/115 [==============================] - 1s 6ms/step - loss: 0.5065 - accuracy: 0.6949 - val_loss: 0.8265 - val_accuracy: 0.6167\n",
      "Epoch 27/30\n",
      "115/115 [==============================] - 1s 6ms/step - loss: 0.5082 - accuracy: 0.7044 - val_loss: 0.8255 - val_accuracy: 0.6098\n",
      "Epoch 28/30\n",
      "115/115 [==============================] - 1s 6ms/step - loss: 0.5075 - accuracy: 0.6992 - val_loss: 0.8349 - val_accuracy: 0.6272\n",
      "Epoch 29/30\n",
      "115/115 [==============================] - 1s 6ms/step - loss: 0.5070 - accuracy: 0.7010 - val_loss: 0.8249 - val_accuracy: 0.6202\n",
      "Epoch 30/30\n",
      "115/115 [==============================] - 1s 6ms/step - loss: 0.5036 - accuracy: 0.6975 - val_loss: 0.8204 - val_accuracy: 0.6167\n"
     ]
    }
   ],
   "source": [
    "epoch_num = 30\n",
    "batch_size = 10\n",
    "history = model_25.fit(X_train, y_train,\n",
    "                    epochs= epoch_num,\n",
    "                    batch_size = batch_size,\n",
    "                    validation_split=0.2)"
   ]
  },
  {
   "cell_type": "code",
   "execution_count": 50,
   "metadata": {},
   "outputs": [
    {
     "name": "stdout",
     "output_type": "stream",
     "text": [
      "precision score:  0.5697\n",
      "recall score:  0.7814\n",
      "F1 score:  0.659\n",
      "confusion matrix: \n",
      " [[ 68 108]\n",
      " [ 40 143]]\n",
      "Test loss:  0.9219\n",
      "Test accuracy :  0.5877\n"
     ]
    }
   ],
   "source": [
    "assess_model(model_25, X_test, y_test)  \n",
    "report_score(model_25, X_test, y_test)"
   ]
  },
  {
   "cell_type": "markdown",
   "metadata": {},
   "source": [
    "We only got an accuracy of 59%, which is very low. However, we couldn't expect to get good results given so few examples to train the model."
   ]
  },
  {
   "cell_type": "markdown",
   "metadata": {},
   "source": [
    "Now we will build and train a fully convolutional model to do the same task."
   ]
  },
  {
   "cell_type": "code",
   "execution_count": 97,
   "metadata": {},
   "outputs": [
    {
     "name": "stdout",
     "output_type": "stream",
     "text": [
      "Model: \"sequential_12\"\n",
      "_________________________________________________________________\n",
      " Layer (type)                Output Shape              Param #   \n",
      "=================================================================\n",
      " embedding_12 (Embedding)    (None, 4, 32)             81920     \n",
      "                                                                 \n",
      " spatial_dropout1d_11 (Spati  (None, 4, 32)            0         \n",
      " alDropout1D)                                                    \n",
      "                                                                 \n",
      " batch_normalization_11 (Bat  (None, 4, 32)            128       \n",
      " chNormalization)                                                \n",
      "                                                                 \n",
      " flatten_5 (Flatten)         (None, 128)               0         \n",
      "                                                                 \n",
      " dense_13 (Dense)            (None, 32)                4128      \n",
      "                                                                 \n",
      " dense_14 (Dense)            (None, 2)                 66        \n",
      "                                                                 \n",
      "=================================================================\n",
      "Total params: 86,242\n",
      "Trainable params: 86,178\n",
      "Non-trainable params: 64\n",
      "_________________________________________________________________\n"
     ]
    }
   ],
   "source": [
    "model_fc = models.Sequential()\n",
    "model_fc.add(layers.Embedding(vocab_size, 32, input_length=4))\n",
    "model_fc.add(layers.SpatialDropout1D(0.2))\n",
    "model_fc.add(layers.BatchNormalization())\n",
    "model_fc.add(layers.Flatten())\n",
    "model_fc.add(layers.Dense(32, activation='relu'))\n",
    "model_fc.add(layers.Dense(2, activation='softmax'))\n",
    "    \n",
    "model_fc.summary()\n",
    "# compiling the model\n",
    "model_fc.compile(optimizer = \"adam\",loss = \"binary_crossentropy\", metrics = [\"accuracy\"])"
   ]
  },
  {
   "cell_type": "code",
   "execution_count": 128,
   "metadata": {
    "scrolled": true
   },
   "outputs": [
    {
     "name": "stdout",
     "output_type": "stream",
     "text": [
      "Epoch 1/20\n",
      "115/115 [==============================] - 0s 4ms/step - loss: 0.5201 - accuracy: 0.6853 - val_loss: 0.9299 - val_accuracy: 0.5993\n",
      "Epoch 2/20\n",
      "115/115 [==============================] - 0s 4ms/step - loss: 0.5182 - accuracy: 0.7018 - val_loss: 0.9338 - val_accuracy: 0.5923\n",
      "Epoch 3/20\n",
      "115/115 [==============================] - 0s 4ms/step - loss: 0.5184 - accuracy: 0.6888 - val_loss: 0.9452 - val_accuracy: 0.6028\n",
      "Epoch 4/20\n",
      "115/115 [==============================] - 0s 4ms/step - loss: 0.5079 - accuracy: 0.7001 - val_loss: 0.9283 - val_accuracy: 0.5958\n",
      "Epoch 5/20\n",
      "115/115 [==============================] - 0s 4ms/step - loss: 0.5225 - accuracy: 0.6966 - val_loss: 0.9186 - val_accuracy: 0.5923\n",
      "Epoch 6/20\n",
      "115/115 [==============================] - 0s 4ms/step - loss: 0.5244 - accuracy: 0.6853 - val_loss: 0.9473 - val_accuracy: 0.6341\n",
      "Epoch 7/20\n",
      "115/115 [==============================] - 1s 5ms/step - loss: 0.5193 - accuracy: 0.6905 - val_loss: 0.9426 - val_accuracy: 0.5993\n",
      "Epoch 8/20\n",
      "115/115 [==============================] - 0s 4ms/step - loss: 0.5172 - accuracy: 0.6983 - val_loss: 0.9308 - val_accuracy: 0.5923\n",
      "Epoch 9/20\n",
      "115/115 [==============================] - 0s 4ms/step - loss: 0.5168 - accuracy: 0.6870 - val_loss: 0.9280 - val_accuracy: 0.5923\n",
      "Epoch 10/20\n",
      "115/115 [==============================] - 0s 4ms/step - loss: 0.5093 - accuracy: 0.6957 - val_loss: 0.9560 - val_accuracy: 0.5854\n",
      "Epoch 11/20\n",
      "115/115 [==============================] - 0s 4ms/step - loss: 0.5169 - accuracy: 0.6879 - val_loss: 0.9481 - val_accuracy: 0.5854\n",
      "Epoch 12/20\n",
      "115/115 [==============================] - 0s 4ms/step - loss: 0.5126 - accuracy: 0.6983 - val_loss: 0.9692 - val_accuracy: 0.5923\n",
      "Epoch 13/20\n",
      "115/115 [==============================] - 0s 4ms/step - loss: 0.5097 - accuracy: 0.6992 - val_loss: 0.9642 - val_accuracy: 0.5958\n",
      "Epoch 14/20\n",
      "115/115 [==============================] - 0s 4ms/step - loss: 0.5128 - accuracy: 0.6914 - val_loss: 0.9530 - val_accuracy: 0.5958\n",
      "Epoch 15/20\n",
      "115/115 [==============================] - 0s 4ms/step - loss: 0.5139 - accuracy: 0.6896 - val_loss: 0.9622 - val_accuracy: 0.5889\n",
      "Epoch 16/20\n",
      "115/115 [==============================] - 0s 4ms/step - loss: 0.5138 - accuracy: 0.6914 - val_loss: 0.9861 - val_accuracy: 0.5923\n",
      "Epoch 17/20\n",
      "115/115 [==============================] - 0s 4ms/step - loss: 0.5018 - accuracy: 0.7114 - val_loss: 0.9832 - val_accuracy: 0.5993\n",
      "Epoch 18/20\n",
      "115/115 [==============================] - 0s 4ms/step - loss: 0.5140 - accuracy: 0.6931 - val_loss: 0.9654 - val_accuracy: 0.6028\n",
      "Epoch 19/20\n",
      "115/115 [==============================] - 0s 4ms/step - loss: 0.5132 - accuracy: 0.6914 - val_loss: 0.9432 - val_accuracy: 0.5889\n",
      "Epoch 20/20\n",
      "115/115 [==============================] - 0s 4ms/step - loss: 0.5106 - accuracy: 0.6966 - val_loss: 0.9603 - val_accuracy: 0.6063\n"
     ]
    }
   ],
   "source": [
    "history_fc= model_fc.fit(X_train, y_train,\n",
    "                    epochs= 20,\n",
    "                    batch_size = batch_size,\n",
    "                    validation_split=0.2)"
   ]
  },
  {
   "cell_type": "code",
   "execution_count": 100,
   "metadata": {},
   "outputs": [
    {
     "data": {
      "image/png": "[encoded data removed]",
      "text/plain": [
       "<Figure size 432x288 with 1 Axes>"
      ]
     },
     "metadata": {
      "needs_background": "light"
     },
     "output_type": "display_data"
    }
   ],
   "source": [
    "plt.plot(history_fc.history['loss'])\n",
    "plt.plot(history_fc.history['accuracy'])\n",
    "plt.title('Model loss and accuracy')\n",
    "plt.xlabel('epoch')\n",
    "plt.legend(['loss', 'accuracy'])\n",
    "plt.show()"
   ]
  },
  {
   "cell_type": "code",
   "execution_count": 101,
   "metadata": {},
   "outputs": [
    {
     "name": "stdout",
     "output_type": "stream",
     "text": [
      "precision score:  0.5697\n",
      "recall score:  0.7814\n",
      "F1 score:  0.659\n",
      "confusion matrix: \n",
      " [[ 68 108]\n",
      " [ 40 143]]\n",
      "Test loss:  0.8082\n",
      "Test accuracy :  0.5877\n"
     ]
    }
   ],
   "source": [
    "assess_model(model_fc, X_test, y_test)  \n",
    "report_score(model_fc, X_test, y_test)"
   ]
  },
  {
   "cell_type": "markdown",
   "metadata": {},
   "source": [
    "The accuracy of the model is only 59% but it is better for model with LSTM. They both models perform poorly due to the small number of training samples."
   ]
  },
  {
   "cell_type": "markdown",
   "metadata": {
    "colab_type": "text",
    "id": "eAZ1LyFBMLoK"
   },
   "source": [
    "##  Make a prediction"
   ]
  },
  {
   "cell_type": "code",
   "execution_count": 106,
   "metadata": {
    "colab": {},
    "colab_type": "code",
    "id": "vfPM5LokII5V",
    "tags": []
   },
   "outputs": [
    {
     "name": "stdout",
     "output_type": "stream",
     "text": [
      "model_25 : ['negative', 'positive', 'positive', 'positive', 'negative', 'negative', 'positive']\n",
      "model_fc:  ['negative', 'negative', 'positive', 'positive', 'negative', 'negative', 'positive']\n"
     ]
    }
   ],
   "source": [
    "# This is a very small set of completed new data to use to make predictions.\n",
    "prediction_data = [\"this book is fabulous\",\"i hated this book\", \"the best\", \"no good\", \"okay\", \"horrible\", \"very very good\"]\n",
    "tokenized = tokenizer.texts_to_sequences(prediction_data)\n",
    "maxlen = 4\n",
    "padded = pad_sequences(tokenized, padding='post', maxlen=maxlen)\n",
    "\n",
    "# Supply this data to each of your models and see how it does. \n",
    "# You can call the helper function \"to_word_label\" to map the output of the model to the name of the\n",
    "# class it was predicted to belong to.\n",
    "\n",
    "y_pred = model_25(padded)\n",
    "print(\"model_25 :\",to_word_label(y_pred))\n",
    "\n",
    "y_pred = model_fc(padded)\n",
    "print(\"model_fc: \",to_word_label(y_pred))"
   ]
  },
  {
   "cell_type": "markdown",
   "metadata": {},
   "source": [
    "The both models yielded similar predictions for all reviews except the second. None of the models perfomed well due to a small number of training samples but it seems that \n",
    "Convolutional model is more suited for sentimets analysis."
   ]
  },
  {
   "cell_type": "code",
   "execution_count": null,
   "metadata": {},
   "outputs": [],
   "source": []
  }
 ],
 "metadata": {
  "colab": {
   "collapsed_sections": [],
   "name": "L3T20.ipynb",
   "provenance": []
  },
  "kernelspec": {
   "display_name": "Python 3",
   "language": "python",
   "name": "python3"
  },
  "language_info": {
   "codemirror_mode": {
    "name": "ipython",
    "version": 3
   },
   "file_extension": ".py",
   "mimetype": "text/x-python",
   "name": "python",
   "nbconvert_exporter": "python",
   "pygments_lexer": "ipython3",
   "version": "3.8.8"
  }
 },
 "nbformat": 4,
 "nbformat_minor": 1
}
